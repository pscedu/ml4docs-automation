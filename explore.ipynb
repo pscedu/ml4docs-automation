{
 "cells": [
  {
   "cell_type": "markdown",
   "source": [
    "# Explore the dataset"
   ],
   "metadata": {}
  },
  {
   "cell_type": "code",
   "execution_count": null,
   "source": [
    "%matplotlib inline\n",
    "import os\n",
    "import matplotlib\n",
    "import matplotlib.pyplot as plt\n",
    "from interface import dataframe\n",
    "import argparse\n",
    "import glob\n",
    "import shutil"
   ],
   "outputs": [],
   "metadata": {
    "scrolled": true
   }
  },
  {
   "cell_type": "markdown",
   "source": [
    "These should always stay the same."
   ],
   "metadata": {}
  },
  {
   "cell_type": "code",
   "execution_count": null,
   "source": [
    "%cd '/ocean/projects/hum180001p/shared/src/shuffler'\n",
    "rootdir='/ocean/projects/hum180001p/shared/data/'\n",
    "campaign_dir='/ocean/projects/hum180001p/shared/databases/'"
   ],
   "outputs": [],
   "metadata": {}
  },
  {
   "cell_type": "markdown",
   "source": [
    "File paths for latest versions of databases."
   ],
   "metadata": {}
  },
  {
   "cell_type": "code",
   "execution_count": null,
   "source": [
    "campaign3_db    = campaign_dir + 'campaign3/campaign3-6Kx4K.v6.db'\n",
    "campaign4_db    = campaign_dir + 'campaign4/campaign4-6Kx4K.v10.db'\n",
    "campaign5_db    = campaign_dir + 'campaign5/campaign5-1800x1200.v4.db'\n",
    "campaign6_db    = campaign_dir + 'campaign6/campaign6-6Kx4K.v7.db'\n",
    "campaign3to5_db = campaign_dir + 'campaign5/campaign3to5-6Kx4K.v6.db'\n",
    "campaign3to6_db = campaign_dir + 'campaign6/campaign3to6-6Kx4K.v7.db'\n",
    "campaign3to6_cropped_db = campaign_dir + 'campaign6/crops/campaign3to6-6Kx4K.v7-croppedStamps.db'\n",
    "\n",
    "# Check that the files exist.\n",
    "assert os.path.exists(campaign3_db), campaign3_db\n",
    "assert os.path.exists(campaign4_db), campaign4_db\n",
    "assert os.path.exists(campaign5_db), campaign5_db\n",
    "assert os.path.exists(campaign6_db), campaign6_db\n",
    "assert os.path.exists(campaign3to5_db), campaign3to5_db\n",
    "assert os.path.exists(campaign3to6_db), campaign3to6_db\n",
    "assert os.path.exists(campaign3to6_cropped_db), campaign3to6_cropped_db"
   ],
   "outputs": [],
   "metadata": {}
  },
  {
   "cell_type": "markdown",
   "source": [
    "### Explore cropped stamps "
   ],
   "metadata": {}
  },
  {
   "cell_type": "markdown",
   "source": [
    "Load the database."
   ],
   "metadata": {}
  },
  {
   "cell_type": "code",
   "execution_count": null,
   "source": [
    "df = dataframe.Dataframe(in_db_path=campaign3to6_cropped_db,  rootdir=rootdir)"
   ],
   "outputs": [],
   "metadata": {}
  },
  {
   "cell_type": "markdown",
   "source": [
    "Display random images."
   ],
   "metadata": {}
  },
  {
   "cell_type": "code",
   "execution_count": null,
   "source": [
    "df.displayImagesPlt(limit=8, with_objects=True, with_imagefile=True, ncols=4, shuffle=True)\n",
    "plt.rcParams[\"figure.figsize\"] = [20,40]"
   ],
   "outputs": [],
   "metadata": {
    "scrolled": true
   }
  },
  {
   "cell_type": "markdown",
   "source": [
    "### Explore campaigns 3-6"
   ],
   "metadata": {}
  },
  {
   "cell_type": "markdown",
   "source": [
    "Load the databases."
   ],
   "metadata": {}
  },
  {
   "cell_type": "code",
   "execution_count": null,
   "source": [
    "# campaign6 alone.\n",
    "df6    = dataframe.Dataframe(in_db_path=campaign6_db, rootdir=rootdir)\n",
    "\n",
    "# campaigns 3 to 6.\n",
    "df3to6 = dataframe.Dataframe(in_db_path=campaign3to6_db, rootdir=rootdir)"
   ],
   "outputs": [],
   "metadata": {}
  },
  {
   "cell_type": "markdown",
   "source": [
    "How many instances and distinct names are in **campaign 6** alone. These are new stamps in this campaign."
   ],
   "metadata": {}
  },
  {
   "cell_type": "code",
   "execution_count": null,
   "source": [
    "df6.cursor.execute(\"SELECT COUNT(1) FROM objects WHERE name NOT LIKE '%page%'\")\n",
    "print('stamp instances in campaign 6: ', df6.cursor.fetchone()[0])\n",
    "\n",
    "df6.cursor.execute(\"SELECT COUNT(DISTINCT(name)) FROM objects WHERE name NOT LIKE '%page%'\")\n",
    "print('stamp names in campaign 6:     ', df6.cursor.fetchone()[0])"
   ],
   "outputs": [],
   "metadata": {
    "scrolled": true
   }
  },
  {
   "cell_type": "markdown",
   "source": [
    "How many instances and distinct names are in all **campaigns 3 to 6**."
   ],
   "metadata": {}
  },
  {
   "cell_type": "code",
   "execution_count": null,
   "source": [
    "df3to6.cursor.execute(\"SELECT COUNT(1) FROM objects WHERE name NOT LIKE '%page%'\")\n",
    "print('stamp instances in campaigns 3-6: ', df3to6.cursor.fetchone()[0])\n",
    "\n",
    "df3to6.cursor.execute(\"SELECT COUNT(DISTINCT(name)) FROM objects WHERE name NOT LIKE '%page%'\")\n",
    "print('stamp names in campaigns 3-6:     ', df3to6.cursor.fetchone()[0])"
   ],
   "outputs": [],
   "metadata": {
    "scrolled": false
   }
  },
  {
   "cell_type": "markdown",
   "source": [
    "Display a random image."
   ],
   "metadata": {}
  },
  {
   "cell_type": "code",
   "execution_count": null,
   "source": [
    "plt.rcParams[\"figure.figsize\"] = [20,20]\n",
    "df3to6.displayImagesPlt(limit=1, with_objects=True, with_imagefile=True, ncols=1, shuffle=True)"
   ],
   "outputs": [],
   "metadata": {
    "scrolled": true
   }
  },
  {
   "cell_type": "markdown",
   "source": [
    "Plot the histogram of all classes for the paper, split across campaigns."
   ],
   "metadata": {}
  },
  {
   "cell_type": "code",
   "execution_count": null,
   "source": [
    "matplotlib.rc('legend', fontsize=30, handlelength=2)\n",
    "matplotlib.rc('ytick', labelsize=30)\n",
    "from tools import PlotObjectNameHistograms"
   ],
   "outputs": [],
   "metadata": {}
  },
  {
   "cell_type": "code",
   "execution_count": null,
   "source": [
    "args = argparse.Namespace(rootdir=rootdir, \n",
    "                          db_paths=[campaign3_db, campaign4_db, campaign5_db, campaign6_db],\n",
    "                          out_plot_path=campaign_dir+'campaign6/visualization/campaign3to6.count.v7.png',\n",
    "                          where_objects='name NOT LIKE \"page%\" AND name != \"??\"',\n",
    "                          fig_width=50, \n",
    "                          fig_height=7, \n",
    "                          no_xticks=True, \n",
    "                          legend_entries=[\"cycle 1\", \"cycle 2\", \"cycle 3\", \"cycle 4\"],\n",
    "                          show=True,\n",
    "                          ylog=True,\n",
    "                          at_least=2,\n",
    "                          fontsize=30)\n",
    "PlotObjectNameHistograms.plot_object_name_histograms(args)"
   ],
   "outputs": [],
   "metadata": {}
  },
  {
   "cell_type": "code",
   "execution_count": null,
   "source": [
    "args = argparse.Namespace(rootdir=rootdir, \n",
    "                          db_paths=[campaign3_db, campaign4_db, campaign5_db, campaign6_db],\n",
    "                          out_plot_path=campaign_dir+'campaign6/visualization/campaign3to6.count.v7.ticks.png',\n",
    "                          where_objects='name NOT LIKE \"page%\" AND name != \"??\"',\n",
    "                          fig_width=13, \n",
    "                          fig_height=7, \n",
    "                          no_xticks=False, \n",
    "                          legend_entries=[\"cycle 1\", \"cycle 2\", \"cycle 3\", \"cycle 4\"],\n",
    "                          show=True,\n",
    "                          ylog=False,\n",
    "                          at_least=20,\n",
    "                          fontsize=10)\n",
    "PlotObjectNameHistograms.plot_object_name_histograms(args)"
   ],
   "outputs": [],
   "metadata": {
    "scrolled": false
   }
  },
  {
   "cell_type": "markdown",
   "source": [
    "How many subfolders (e.g. `\"01 (1427)\"`) have been sampled from."
   ],
   "metadata": {}
  },
  {
   "cell_type": "code",
   "execution_count": null,
   "source": [
    "# Count the number of subfolders in campaign6.\n",
    "df6.cursor.execute(\"SELECT COUNT(DISTINCT(SUBSTR(imagefile,0,28))) FROM images\")\n",
    "print ('Number of subfolders in campaign 6 alone:  ', df6.cursor.fetchone()[0])\n",
    "\n",
    "# Count the number of subfolders in campaign3to6.\n",
    "df3to6.cursor.execute(\"SELECT COUNT(DISTINCT(SUBSTR(imagefile,0,28))) FROM images\")\n",
    "print ('Number of subfolders in campaigns 3 to 6:  ', df3to6.cursor.fetchone()[0])\n",
    "\n",
    "# Count the total number of subfolders.\n",
    "total = len(glob.glob(rootdir+\"original_dataset/*\"))\n",
    "print ('Total number of subfolders:                ', total)"
   ],
   "outputs": [],
   "metadata": {}
  },
  {
   "cell_type": "markdown",
   "source": [
    "How many stamps in this campaign\n",
    "1. from new classes \n",
    "2. from classes that were not in training data for classification before."
   ],
   "metadata": {}
  },
  {
   "cell_type": "code",
   "execution_count": null,
   "source": [
    "df3to6.cursor.execute('SELECT COUNT(1) FROM objects WHERE name NOT LIKE \"page%%\" AND name != \"??\"')\n",
    "num_all = df3to6.cursor.fetchone()[0]\n",
    "df3to6.cursor.execute('ATTACH \"%s\" AS ref;' % campaign3to5_db)\n",
    "df3to6.cursor.execute('SELECT COUNT(1) FROM objects WHERE name NOT LIKE \"page%%\" AND name != \"??\" AND name IN (SELECT DISTINCT(name) FROM ref.objects);')\n",
    "num_from_known_classes = df3to6.cursor.fetchone()[0]\n",
    "df3to6.cursor.execute('SELECT COUNT(1) FROM objects WHERE name NOT LIKE \"page%%\" AND name != \"??\" AND name IN (SELECT DISTINCT(name) FROM ref.objects GROUP BY name HAVING COUNT(1) >= 5);')\n",
    "num_from_classes_with_over_5 = df3to6.cursor.fetchone()[0]\n",
    "df3to6.cursor.execute('DETACH DATABASE ref;')\n",
    "print ('Stamps from new classes in the latest campaign:        %.1f%%' % (100 - num_from_known_classes / num_all * 100))\n",
    "print ('Stamps from classes that had at most 4 stamps before:  %.1f%%' % (100 - num_from_classes_with_over_5 / num_all * 100))"
   ],
   "outputs": [],
   "metadata": {}
  },
  {
   "cell_type": "markdown",
   "source": [
    "Distribution of the most common stamps by decade."
   ],
   "metadata": {}
  },
  {
   "cell_type": "code",
   "execution_count": null,
   "source": [
    "plt.rcParams[\"figure.figsize\"] = [5,5]\n",
    "\n",
    "shutil.copyfile(campaign3to6_db, campaign_dir + 'temp.db')\n",
    "\n",
    "with open(campaign_dir + 'info_years.txt') as f:\n",
    "  lines = f.readlines()\n",
    "\n",
    "df = dataframe.Dataframe(campaign_dir + 'temp.db')\n",
    "for line in lines:\n",
    "    folder, _, year1, year2 = line.strip().split('\\t')\n",
    "    year = (int(year1) + int(year2)) / 2\n",
    "    decade = int(year / 10) * 10\n",
    "    df.cursor.execute('SELECT objectid FROM objects WHERE imagefile LIKE \"%%/%s%%\"' % folder)\n",
    "    objectids = df.cursor.fetchall()\n",
    "    #print (folder, decade, len(objectids))\n",
    "    for objectid, in objectids:\n",
    "      df.cursor.execute('INSERT INTO properties(objectid,key,value) VALUES (?,\\'decade\\',?)', (objectid, decade))\n",
    "\n",
    "df.sql(sql=\"DELETE FROM objects WHERE name IN (SELECT DISTINCT(name) FROM objects GROUP BY name HAVING COUNT(1) < 70)\")\n",
    "df.sql(sql=\"DELETE FROM objects WHERE name LIKE '%page%' OR name LIKE '%??%'\")\n",
    "df.plotHistogram(\n",
    "    sql_stacked=\"SELECT value,name FROM properties JOIN objects ON properties.objectid = objects.objectid WHERE key='decade'\",\n",
    "    xlabel=\"decade\",\n",
    "    colormap=\"tab20\",\n",
    "    out_path=campaign_dir + \"campaign6/visualization/campaign3to6-6Kx4K.v4.decade.png\")\n",
    "df.close()\n",
    "\n",
    "os.remove(campaign_dir + 'temp.db')"
   ],
   "outputs": [],
   "metadata": {}
  },
  {
   "cell_type": "code",
   "execution_count": null,
   "source": [],
   "outputs": [],
   "metadata": {}
  }
 ],
 "metadata": {
  "kernelspec": {
   "name": "python3",
   "display_name": "Python 3.6.8 64-bit"
  },
  "language_info": {
   "codemirror_mode": {
    "name": "ipython",
    "version": 3
   },
   "file_extension": ".py",
   "mimetype": "text/x-python",
   "name": "python",
   "nbconvert_exporter": "python",
   "pygments_lexer": "ipython3",
   "version": "3.6.8"
  },
  "interpreter": {
   "hash": "916dbcbb3f70747c44a77c7bcd40155683ae19c65e1c03b4aa3499c5328201f1"
  }
 },
 "nbformat": 4,
 "nbformat_minor": 1
}